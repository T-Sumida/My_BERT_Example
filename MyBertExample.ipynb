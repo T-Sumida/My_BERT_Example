{
 "cells": [
  {
   "cell_type": "code",
   "execution_count": 1,
   "metadata": {},
   "outputs": [],
   "source": [
    "import torch\n",
    "import numpy as np\n",
    "from transformers.tokenization_bert_japanese import BertJapaneseTokenizer\n",
    "from transformers import BertModel \n",
    "\n",
    "# 日本語トークナイザ\n",
    "tokenizer = BertJapaneseTokenizer.from_pretrained('bert-base-japanese')\n",
    "# 事前学習済みBert\n",
    "model = BertModel.from_pretrained('bert-base-japanese')"
   ]
  },
  {
   "cell_type": "code",
   "execution_count": 2,
   "metadata": {},
   "outputs": [],
   "source": [
    "def cos(x1, x2):\n",
    "    \"\"\"\n",
    "    引数の２つベクトルの内積を計算する\n",
    "    \"\"\"\n",
    "    return np.dot(x1, x2) / (np.linalg.norm(x1) * np.linalg.norm(x2))\n",
    "\n",
    "def create_vec(text):\n",
    "    \"\"\" 入力されたテキストを推論する \"\"\"\n",
    "    input_batch = [text]\n",
    "\n",
    "    # トークナイズでテキストを分割する\n",
    "    encoded_data = tokenizer.batch_encode_plus(\n",
    "        input_batch, pad_to_max_length=True, add_special_tokens=True)\n",
    "\n",
    "    # 単語ベクトルをIDに変換する\n",
    "    input_ids = torch.tensor(encoded_data[\"input_ids\"])\n",
    "\n",
    "    # 推論\n",
    "    with torch.no_grad():\n",
    "        outputs = model(input_ids)\n",
    "\n",
    "    # 最終層の情報と、分割したトークンを返す\n",
    "    last_hidden_states = outputs[0]\n",
    "    return last_hidden_states.detach().numpy(), tokenizer.convert_ids_to_tokens(input_ids[0].tolist())"
   ]
  },
  {
   "cell_type": "code",
   "execution_count": 3,
   "metadata": {},
   "outputs": [
    {
     "name": "stdout",
     "output_type": "stream",
     "text": [
      "CPU times: user 3 µs, sys: 1e+03 ns, total: 4 µs\n",
      "Wall time: 7.87 µs\n",
      "(1, 27, 768)\n"
     ]
    }
   ],
   "source": [
    "%time\n",
    "text = \"私は明日から自宅勤務です。腰を傷めないようにお高い椅子を買おうと思います\"\n",
    "last_hidden_states, token = create_vec(text)\n",
    "print(last_hidden_states.shape)"
   ]
  },
  {
   "cell_type": "markdown",
   "metadata": {},
   "source": [
    "# 文ベクトルを比較してみる"
   ]
  },
  {
   "cell_type": "code",
   "execution_count": 4,
   "metadata": {},
   "outputs": [],
   "source": [
    "text1 = \"IT企業ではないアマゾンにはよく釣りに行く\"\n",
    "text2 = \"南米のアマゾン川は危険な生き物がたくさんいる\"\n",
    "text3 = \"アマゾンで椅子を買ってリモートワーク環境を作る\""
   ]
  },
  {
   "cell_type": "code",
   "execution_count": 5,
   "metadata": {},
   "outputs": [
    {
     "name": "stdout",
     "output_type": "stream",
     "text": [
      "「IT企業で...」と「南米のアマ...」の文ベクトル類似度：0.72820\n",
      "「IT企業で...」と「アマゾンで...」の文ベクトル類似度：0.71819\n",
      "「アマゾンで...」と「南米のアマ...」の文ベクトル類似度：0.68089\n"
     ]
    }
   ],
   "source": [
    "vec1, _ = create_vec(text1)\n",
    "vec2, _ = create_vec(text2)\n",
    "vec3, _ = create_vec(text3)\n",
    "\n",
    "# 文ベクトルの類似度を出力\n",
    "print(\"「{}...」と「{}...」の文ベクトル類似度：{:.5f}\".format(text1[:5], text2[:5], cos(vec1[0, 0, :], vec2[0, 0, :])))\n",
    "print(\"「{}...」と「{}...」の文ベクトル類似度：{:.5f}\".format(text1[:5], text3[:5], cos(vec1[0, 0, :], vec3[0, 0, :])))\n",
    "print(\"「{}...」と「{}...」の文ベクトル類似度：{:.5f}\".format(text3[:5], text2[:5], cos(vec3[0, 0, :], vec2[0, 0, :])))"
   ]
  },
  {
   "cell_type": "markdown",
   "metadata": {},
   "source": [
    "## 全然関係ない文章同士では？"
   ]
  },
  {
   "cell_type": "code",
   "execution_count": 6,
   "metadata": {},
   "outputs": [],
   "source": [
    "text1 = \"アマゾンで椅子を買ってリモートワーク環境を作る\"\n",
    "text2 = \"アマゾンのクラウドを利用してシステムを構築する\"\n",
    "except_text = \"明日の晩御飯は豚の生姜焼きともやし炒めにする\""
   ]
  },
  {
   "cell_type": "code",
   "execution_count": 7,
   "metadata": {},
   "outputs": [
    {
     "name": "stdout",
     "output_type": "stream",
     "text": [
      "「アマゾンで...」と「アマゾンの...」の文ベクトル類似度：0.81488\n",
      "「アマゾンで...」と「明日の晩御...」の文ベクトル類似度：0.67456\n",
      "「明日の晩御...」と「アマゾンの...」の文ベクトル類似度：0.65609\n"
     ]
    }
   ],
   "source": [
    "vec1, _ = create_vec(text1)\n",
    "vec2, _ = create_vec(text2)\n",
    "ex_vec, _ = create_vec(except_text)\n",
    "\n",
    "# 文ベクトルの類似度を出力\n",
    "print(\"「{}...」と「{}...」の文ベクトル類似度：{:.5f}\".format(text1[:5], text2[:5], cos(vec1[0, 0, :], vec2[0, 0, :])))\n",
    "print(\"「{}...」と「{}...」の文ベクトル類似度：{:.5f}\".format(text1[:5], except_text[:5], cos(vec1[0, 0, :], ex_vec[0, 0, :])))\n",
    "print(\"「{}...」と「{}...」の文ベクトル類似度：{:.5f}\".format(except_text[:5], text2[:5], cos(ex_vec[0, 0, :], vec2[0, 0, :])))"
   ]
  },
  {
   "cell_type": "markdown",
   "metadata": {},
   "source": [
    "# 特定単語ベクトルを比較してみる"
   ]
  },
  {
   "cell_type": "code",
   "execution_count": 8,
   "metadata": {},
   "outputs": [],
   "source": [
    "text1 = \"IT企業ではないアマゾンにはよく釣りに行く\"\n",
    "text2 = \"南米のアマゾン川は危険な生き物がたくさんいる\"\n",
    "text3 = \"アマゾンで椅子を買ってリモートワーク環境を作る\""
   ]
  },
  {
   "cell_type": "code",
   "execution_count": 9,
   "metadata": {},
   "outputs": [
    {
     "name": "stdout",
     "output_type": "stream",
     "text": [
      "「IT企業で...」と「南米のアマ...」の文ベクトル類似度：0.65961\n",
      "「IT企業で...」と「アマゾンで...」の文ベクトル類似度：0.71137\n",
      "「アマゾンで...」と「南米のアマ...」の文ベクトル類似度：0.68076\n"
     ]
    }
   ],
   "source": [
    "vec1, token1 = create_vec(text1)\n",
    "vec2, token2 = create_vec(text2)\n",
    "vec3, token3 = create_vec(text3)\n",
    "\n",
    "# 対象の単語\n",
    "TARGET = \"アマゾン\"\n",
    "\n",
    "# 単語ベクトルの類似度を出力\n",
    "# TARGETのインデックスを取得し、それに対応するベクトルで計算する\n",
    "print(\"「{}...」と「{}...」の文ベクトル類似度：{:.5f}\".format(text1[:5], text2[:5], cos(vec1[0, token1.index(TARGET), :], vec2[0, token2.index(TARGET), :])))\n",
    "print(\"「{}...」と「{}...」の文ベクトル類似度：{:.5f}\".format(text1[:5], text3[:5], cos(vec1[0, token1.index(TARGET), :], vec3[0, token3.index(TARGET), :])))\n",
    "print(\"「{}...」と「{}...」の文ベクトル類似度：{:.5f}\".format(text3[:5], text2[:5], cos(vec3[0, token3.index(TARGET), :], vec2[0, token2.index(TARGET), :])))"
   ]
  },
  {
   "cell_type": "code",
   "execution_count": null,
   "metadata": {},
   "outputs": [],
   "source": []
  }
 ],
 "metadata": {
  "kernelspec": {
   "display_name": "Python 3",
   "language": "python",
   "name": "python3"
  },
  "language_info": {
   "codemirror_mode": {
    "name": "ipython",
    "version": 3
   },
   "file_extension": ".py",
   "mimetype": "text/x-python",
   "name": "python",
   "nbconvert_exporter": "python",
   "pygments_lexer": "ipython3",
   "version": "3.7.0"
  }
 },
 "nbformat": 4,
 "nbformat_minor": 4
}
